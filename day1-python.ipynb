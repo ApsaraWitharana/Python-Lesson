{
 "cells": [
  {
   "cell_type": "code",
   "execution_count": null,
   "metadata": {},
   "outputs": [],
   "source": [
    "# print command\n",
    "print(\"Hellow world!!\")"
   ]
  },
  {
   "cell_type": "code",
   "execution_count": null,
   "metadata": {},
   "outputs": [],
   "source": [
    "# veriable initialized\n",
    "a=5\n",
    "b=10\n",
    "print(a+b)"
   ]
  },
  {
   "cell_type": "code",
   "execution_count": null,
   "metadata": {},
   "outputs": [],
   "source": [
    "# rules for python veriable \n",
    "# 01) num_1 / _num_1 = using to this formate\n",
    "# 02) 2num_1 / num-1 /num 1 = dont using this formate\n",
    "\n",
    "NEWVERIABLE =\"jon\"\n",
    "print(NEWVERIABLE)"
   ]
  },
  {
   "cell_type": "code",
   "execution_count": null,
   "metadata": {},
   "outputs": [],
   "source": [
    "a =10\n",
    "print(a)\n",
    "print(type(a))\n",
    "print (a,type(a))\n",
    "print(\"The type of variable having value\",a ,\"is\",(type(a)))"
   ]
  },
  {
   "cell_type": "code",
   "execution_count": null,
   "metadata": {},
   "outputs": [],
   "source": [
    "\n",
    "a = 2.5e4\n",
    "print(a)\n",
    "print(a,type(a))"
   ]
  },
  {
   "cell_type": "code",
   "execution_count": null,
   "metadata": {},
   "outputs": [],
   "source": [
    "a =5\n",
    "b = float(a)\n",
    "print(a)\n",
    "print(b,type(b))"
   ]
  },
  {
   "cell_type": "code",
   "execution_count": null,
   "metadata": {},
   "outputs": [],
   "source": [
    "c = 7.0\n",
    "d = int(c) \n",
    "print(c)\n",
    "print(d,type(d))\n",
    "\n",
    "# casting\n",
    "a =5\n",
    "b = float(a)"
   ]
  },
  {
   "cell_type": "code",
   "execution_count": 7,
   "metadata": {},
   "outputs": [
    {
     "name": "stdout",
     "output_type": "stream",
     "text": [
      "[10, 5, 'cat', 20, 1.5, True]\n",
      "[10, 5, 'cat', 20, 1.5, True] <class 'list'>\n",
      "20\n",
      "cat\n",
      "1.5\n",
      "True\n",
      "[10, 'dog', 'cat', 20, 1.5, True]\n"
     ]
    }
   ],
   "source": [
    "# list\n",
    "my_list = [10,5,\"cat\",20,1.5,True]\n",
    "print(my_list)\n",
    "print(my_list,type(my_list))\n",
    "print(my_list[3])\n",
    "print(my_list[2])\n",
    "print(my_list[4])\n",
    "print(my_list[5])\n",
    "my_list[1] =\"dog\"\n",
    "print(my_list)\n",
    "\n",
    "\n",
    "\n"
   ]
  },
  {
   "cell_type": "code",
   "execution_count": 2,
   "metadata": {},
   "outputs": [
    {
     "name": "stdout",
     "output_type": "stream",
     "text": [
      "[10, 5, 'cat', 20, 1.5, True, 'ama']\n",
      "7\n",
      "ama\n",
      "5\n",
      "[5, 'cat', 20] <class 'list'>\n",
      "[10, 5, 'cat', 20] <class 'list'>\n",
      "[20, 1.5, True, 'ama'] <class 'list'>\n"
     ]
    }
   ],
   "source": [
    "# append()\n",
    "my_list = [10,5,\"cat\",20,1.5,True]\n",
    "\n",
    "my_list.append(\"ama\") \n",
    "print(my_list)\n",
    "print(len(my_list))\n",
    "print(my_list[-1])\n",
    "print(my_list[-6])\n",
    "print(my_list[1:4],type(my_list[1:4]))\n",
    "print(my_list[:4],type(my_list[:4]))\n",
    "print(my_list[3:],type(my_list[3:]))"
   ]
  },
  {
   "cell_type": "code",
   "execution_count": 3,
   "metadata": {},
   "outputs": [
    {
     "name": "stdout",
     "output_type": "stream",
     "text": [
      "[10, 5, 'Rat', 'cat', 20, 1.5, True] 7\n",
      "[10, 5, 'Rat', 'cat', 20, 1.5, True, 'carraot'] 8\n"
     ]
    }
   ],
   "source": [
    "#insert()\n",
    "my_list = [10,5,\"cat\",20,1.5,True]\n",
    "\n",
    "my_list.insert(2,\"Rat\")\n",
    "print(my_list,len(my_list))\n",
    "my_list.append(\"carraot\")\n",
    "print(my_list,len(my_list))"
   ]
  },
  {
   "cell_type": "code",
   "execution_count": null,
   "metadata": {},
   "outputs": [
    {
     "name": "stdout",
     "output_type": "stream",
     "text": [
      "[10, 5, 'cat', 20, 1.5, True, 1, 4, 'false'] 9\n"
     ]
    }
   ],
   "source": [
    "#extend()\n",
    "my_list = [10,5,\"cat\",20,1.5,True]\n",
    "my_list_1 = [1,4,\"false\"]\n",
    "my_list.extend(my_list_1)\n",
    "print(my_list,len(my_list))"
   ]
  },
  {
   "cell_type": "code",
   "execution_count": 5,
   "metadata": {},
   "outputs": [
    {
     "name": "stdout",
     "output_type": "stream",
     "text": [
      "[10, 5, 'cat', 1.5, True] 5\n",
      "[10, 'cat', 1.5, True] 4\n"
     ]
    }
   ],
   "source": [
    "#pop()\n",
    "my_list = [10,5,\"cat\",20,1.5,True]\n",
    "\n",
    "my_list.pop(3)\n",
    "print(my_list,len(my_list))\n",
    "del my_list[1]\n",
    "print(my_list,len(my_list))\n",
    "# del my_list\n",
    "# print(my_list,len(my_list))\n",
    "# my_list.clear()\n",
    "# print(my_list,len(my_list))\n"
   ]
  },
  {
   "cell_type": "code",
   "execution_count": null,
   "metadata": {},
   "outputs": [
    {
     "name": "stdout",
     "output_type": "stream",
     "text": [
      "[10, 'paratt', 17.5, 'dog', True]\n"
     ]
    }
   ],
   "source": [
    "# range of index\n",
    "my_list = [10,5,\"cat\",\"dog\",True]\n",
    "my_list[1:3] =[\"paratt\",17.5]\n",
    "print(my_list)"
   ]
  },
  {
   "cell_type": "code",
   "execution_count": 8,
   "metadata": {},
   "outputs": [
    {
     "name": "stdout",
     "output_type": "stream",
     "text": [
      "[3, 5, 8, 10, 25]\n",
      "[25, 10, 8, 5, 3]\n"
     ]
    }
   ],
   "source": [
    "# reverse\n",
    "my_list=[5,3,10,25,8]\n",
    "my_list.sort()\n",
    "print(my_list)\n",
    "my_list.sort(reverse= True)\n",
    "print(my_list)"
   ]
  },
  {
   "cell_type": "code",
   "execution_count": 15,
   "metadata": {},
   "outputs": [
    {
     "name": "stdout",
     "output_type": "stream",
     "text": [
      "4.3\n",
      "Sir your lecture is good ,please end of the class  today : 4.3\n"
     ]
    }
   ],
   "source": [
    "a =4.30\n",
    "print(a)\n",
    "print(\"Sir your lecture is good ,please end of the class  today :\",a )\n"
   ]
  },
  {
   "cell_type": "code",
   "execution_count": 16,
   "metadata": {},
   "outputs": [
    {
     "name": "stdout",
     "output_type": "stream",
     "text": [
      "[12, 10, 13, 4, 1, 5, 6, 1, 7, 8, 10]\n",
      "[1, 1, 4, 5, 6, 7, 8, 10, 10, 12, 13] 11\n",
      "6\n",
      "Combined and Sorted List: [1, 1, 4, 5, 6, 7, 8, 10, 10, 12, 13]\n",
      "Median: 7\n",
      "Q1: 4\n",
      "Q3: 10\n"
     ]
    }
   ],
   "source": [
    "# Task 02\n",
    "\n",
    "my_list_1 = [12,10,13,4,1,5]\n",
    "my_list_2 = [6,1,7,8,10]\n",
    "my_list_1.extend(my_list_2)\n",
    "print(my_list_1)\n",
    "my_list_1.sort()\n",
    "print(my_list_1,len(my_list_1))\n",
    "\n",
    "# Median\n",
    "position_median = (len(my_list_1)+1)/2\n",
    "position_median = int(position_median)\n",
    "print(position_median)\n",
    "median = my_list_1[position_median-1]\n",
    "# Q1\n",
    "position_q1 = (len(my_list_1)+1)/4\n",
    "position_q1 = int(position_q1)\n",
    "q1_index = my_list_1[position_q1-1]\n",
    "\n",
    "# Q3\n",
    "position_q3 = (len(my_list_1)+1)*3/4\n",
    "position_q3 = int(position_q3)\n",
    "q3 = my_list_1[position_q3-1]\n",
    "print(\"Combined and Sorted List:\", my_list_1)\n",
    "print(\"Median:\", median)\n",
    "print(\"Q1:\",q1_index)\n",
    "print(\"Q3:\",q3)"
   ]
  }
 ],
 "metadata": {
  "kernelspec": {
   "display_name": "Python 3",
   "language": "python",
   "name": "python3"
  },
  "language_info": {
   "codemirror_mode": {
    "name": "ipython",
    "version": 3
   },
   "file_extension": ".py",
   "mimetype": "text/x-python",
   "name": "python",
   "nbconvert_exporter": "python",
   "pygments_lexer": "ipython3",
   "version": "3.13.0"
  }
 },
 "nbformat": 4,
 "nbformat_minor": 2
}
