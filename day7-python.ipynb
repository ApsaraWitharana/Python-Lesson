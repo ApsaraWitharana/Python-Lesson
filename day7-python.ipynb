{
 "cells": [
  {
   "cell_type": "code",
   "execution_count": 4,
   "metadata": {},
   "outputs": [
    {
     "name": "stdout",
     "output_type": "stream",
     "text": [
      "[ 6 10 11  1]\n",
      "<class 'numpy.ndarray'>\n"
     ]
    }
   ],
   "source": [
    "import numpy as np\n",
    "arry_1 = np.array([6,10,11,1])\n",
    "print(arry_1)\n",
    "print(type(arry_1))"
   ]
  },
  {
   "cell_type": "code",
   "execution_count": 14,
   "metadata": {},
   "outputs": [
    {
     "name": "stdout",
     "output_type": "stream",
     "text": [
      "[25 36 48 59 70]\n",
      "subtraction [15 24 32 41 50]\n",
      "multiplication [100 180 320 450 600]\n",
      "division [4.         5.         5.         5.55555556 6.        ]\n",
      "[ 25  36  64  81 100]\n",
      "[2.23606798 2.44948974 2.82842712 3.         3.16227766]\n",
      "38\n",
      "7.6\n",
      "10\n",
      "5\n"
     ]
    }
   ],
   "source": [
    "import numpy as np\n",
    "\n",
    "arry_1 = np.array([5,6,8,9,10])\n",
    "arry_2 = np.array([20,30,40,50,60])\n",
    "\n",
    "sum_arry = arry_1+arry_2\n",
    "print(sum_arry)\n",
    "result_subtraction = arry_2-arry_1\n",
    "print(\"subtraction\",result_subtraction)\n",
    "\n",
    "result_multiplication = arry_1*arry_2\n",
    "print(\"multiplication\",result_multiplication)\n",
    "\n",
    "result_division = arry_2/arry_1\n",
    "print(\"division\",result_division)\n",
    "\n",
    "arry = arry_1**2\n",
    "print(arry)\n",
    "\n",
    "#square root\n",
    "result_sqrt = np.sqrt(arry_1)\n",
    "print(result_sqrt)\n",
    "\n",
    "#summation\n",
    "result_sum = np.sum(arry_1)\n",
    "print(result_sum)\n",
    "\n",
    "#mean Average\n",
    "result_mean = np.mean(arry_1)\n",
    "print(result_mean)\n",
    "\n",
    "#max\n",
    "result_max = np.max(arry_1)\n",
    "print(result_max)\n",
    "\n",
    "#min\n",
    "result_min = np.min(arry_1)\n",
    "print(result_min)"
   ]
  },
  {
   "cell_type": "code",
   "execution_count": 24,
   "metadata": {},
   "outputs": [
    {
     "name": "stdout",
     "output_type": "stream",
     "text": [
      "[[1 3 5]\n",
      " [5 7 9]]\n",
      "(2, 3)\n",
      "6\n",
      "2\n",
      "int64\n",
      "2d array [[[1 3 5]\n",
      "  [5 7 9]]\n",
      "\n",
      " [[3 5 7]\n",
      "  [5 7 9]]]\n",
      "(2, 2, 3)\n",
      "12\n",
      "3\n",
      "int64\n"
     ]
    }
   ],
   "source": [
    "# arrays\n",
    "import numpy as np\n",
    "# 2d array\n",
    "arry_1 = np.array([[1,3,5],[5,7,9]])\n",
    "print(arry_1)\n",
    "print(arry_1.shape)\n",
    "print(arry_1.size)\n",
    "print(arry_1.ndim)\n",
    "print(arry_1.dtype)\n",
    "\n",
    "# 3d array\n",
    "arry_2 = np.array([[[1,3,5],[5,7,9]],[[3,5,7],[5,7,9]]])\n",
    "print(\"2d array\",arry_2)\n",
    "print(arry_2.shape)\n",
    "print(arry_2.size)\n",
    "print(arry_2.ndim)\n",
    "# array eke eliment wl type eka\n",
    "print(arry_2.dtype)\n"
   ]
  },
  {
   "cell_type": "code",
   "execution_count": 27,
   "metadata": {},
   "outputs": [
    {
     "name": "stdout",
     "output_type": "stream",
     "text": [
      "7\n",
      "6\n"
     ]
    }
   ],
   "source": [
    "# array indexing\n",
    "# 1d array\n",
    "arry_1 = np.array([3,5,7,9])\n",
    "print(arry_1[2])\n",
    "\n",
    "# 2d array\n",
    "arry_2 = np.array([[2,4,6,8],[4,6,8,9]])\n",
    "print(arry_2[1,1])"
   ]
  },
  {
   "cell_type": "code",
   "execution_count": 31,
   "metadata": {},
   "outputs": [
    {
     "name": "stdout",
     "output_type": "stream",
     "text": [
      "[[ 1  2  3  4  5]\n",
      " [ 6  7  8  9 10]\n",
      " [11 12 13 14 15]\n",
      " [16 17 18 19 20]]\n",
      "[[11 12 13 14 15]\n",
      " [16 17 18 19 20]\n",
      " [21 22 23 24 25]\n",
      " [26 27 28 29 30]]\n",
      "multify every eliment [[ 2  4  6  8 10]\n",
      " [12 14 16 18 20]\n",
      " [22 24 26 28 30]\n",
      " [32 34 36 38 40]]\n",
      "squre of each element [[  1   4   9  16  25]\n",
      " [ 36  49  64  81 100]\n",
      " [121 144 169 196 225]\n",
      " [256 289 324 361 400]]\n"
     ]
    }
   ],
   "source": [
    "# task 01\n",
    "# create a 2  numpy array with the shape 4by5 ontaitn in to numbers 1 to 20\n",
    "#forfome the following array abou mactrict \n",
    "#add 10 to avery eliment\n",
    "# multify every eliment by 2\n",
    "#calculate the squre of each element\n",
    "\n",
    "import numpy as np\n",
    "\n",
    "array_1 = np.array([[1,2,3,4,5],[6,7,8,9,10],[11,12,13,14,15],[16,17,18,19,20]])\n",
    "print(array_1)\n",
    "\n",
    "array_2 = array_1 + 10\n",
    "print(array_2)\n",
    "\n",
    "array_3 = array_1 * 2\n",
    "print(\"multify every eliment\",array_3)\n",
    "\n",
    "array_4 = array_1 ** 2\n",
    "print(\"squre of each element\",array_4)\n",
    "\n"
   ]
  },
  {
   "cell_type": "code",
   "execution_count": 34,
   "metadata": {},
   "outputs": [
    {
     "name": "stdout",
     "output_type": "stream",
     "text": [
      "[False False  True  True  True]\n",
      "[30 40 50]\n"
     ]
    }
   ],
   "source": [
    "#Boolean indexing \n",
    "arr = np.array([10,20,30,40,50])\n",
    "condition = arr>25\n",
    "print(condition)\n",
    "# imposing boolean array -return the true values\n",
    "result_array = arr[condition]\n",
    "print(result_array)\n",
    "\n"
   ]
  },
  {
   "cell_type": "code",
   "execution_count": 35,
   "metadata": {},
   "outputs": [
    {
     "name": "stdout",
     "output_type": "stream",
     "text": [
      "[30 40 50]\n"
     ]
    }
   ],
   "source": [
    "arr = np.array([10,20,30,40,50])\n",
    "filter_array =arr [arr>25]\n",
    "print(filter_array)"
   ]
  },
  {
   "cell_type": "code",
   "execution_count": 39,
   "metadata": {},
   "outputs": [
    {
     "name": "stdout",
     "output_type": "stream",
     "text": [
      "[30 40]\n",
      "[30 40 50]\n"
     ]
    }
   ],
   "source": [
    "##multiple condition boolean array \n",
    "arr = np.array([10,20,30,40,50])\n",
    "filter_array =arr [(arr>20) &(arr<50)]\n",
    "print(filter_array)\n",
    "\n",
    "filter_array1 =arr [(arr>20)|(arr==50)]\n",
    "print(filter_array1)"
   ]
  },
  {
   "cell_type": "code",
   "execution_count": 41,
   "metadata": {},
   "outputs": [
    {
     "name": "stdout",
     "output_type": "stream",
     "text": [
      "[ 2  4  6  8 10 12 14 16 18 20]\n"
     ]
    }
   ],
   "source": [
    "#task02\n",
    "#create  1d num py array with values from 1 to 20\n",
    "#use boolean indexing o extract all even number\n",
    "\n",
    "\n",
    "import numpy as np\n",
    "array_1 = np.array([1,2,3,4,5,6,7,8,9,10,11,12,13,14,15,16,17,18,19,20])\n",
    "print(array_1[array_1 %2 == 0])\n"
   ]
  },
  {
   "cell_type": "code",
   "execution_count": 44,
   "metadata": {},
   "outputs": [
    {
     "name": "stdout",
     "output_type": "stream",
     "text": [
      "30.0\n",
      "[40 50]\n"
     ]
    }
   ],
   "source": [
    "# task 3\n",
    "#given thenum py array element 10,20,30,40,50, use boolean indexing to extract all element graterthan the mean of the array\n",
    "\n",
    "import numpy as np\n",
    "array_2 = np.array([10,20,30,40,50])\n",
    "arr = np.mean(array_2)\n",
    "print(arr)\n",
    "print(array_2[array_2>arr])"
   ]
  },
  {
   "cell_type": "code",
   "execution_count": 54,
   "metadata": {},
   "outputs": [
    {
     "name": "stdout",
     "output_type": "stream",
     "text": [
      "[0. 0. 0. 0. 0.]\n",
      "[[0. 0. 0.]\n",
      " [0. 0. 0.]]\n",
      "[[0 0 0]\n",
      " [0 0 0]]\n"
     ]
    }
   ],
   "source": [
    "#array initialization\n",
    "#method zeros\n",
    "#1d array\n",
    "print(np.zeros(5))\n",
    "\n",
    "# 2d array -pass the tuple\n",
    "print(np.zeros((2,3)))\n",
    "#dtype set\n",
    "print(np.zeros((2,3),dtype = int))"
   ]
  },
  {
   "cell_type": "code",
   "execution_count": 56,
   "metadata": {},
   "outputs": [
    {
     "name": "stdout",
     "output_type": "stream",
     "text": [
      "[10 10 10 10 10 10 10 10]\n"
     ]
    }
   ],
   "source": [
    "#method full\n",
    "print(np.full(8,10))"
   ]
  },
  {
   "cell_type": "code",
   "execution_count": 63,
   "metadata": {},
   "outputs": [
    {
     "name": "stdout",
     "output_type": "stream",
     "text": [
      "[[7 7 7 7]\n",
      " [7 7 7 7]\n",
      " [7 7 7 7]]\n"
     ]
    }
   ],
   "source": [
    "#task04\n",
    "print(np.full((3,4),7))"
   ]
  },
  {
   "cell_type": "code",
   "execution_count": 64,
   "metadata": {},
   "outputs": [
    {
     "name": "stdout",
     "output_type": "stream",
     "text": [
      "[[3.5e-323 3.5e-323 3.5e-323]\n",
      " [3.5e-323 3.5e-323 3.5e-323]]\n"
     ]
    }
   ],
   "source": [
    "#grabage values set this array\n",
    "# manualy value assing krnwt wata speed up\n",
    "print(np.empty((2,3)))"
   ]
  },
  {
   "cell_type": "code",
   "execution_count": 81,
   "metadata": {},
   "outputs": [
    {
     "name": "stdout",
     "output_type": "stream",
     "text": [
      "    Name  Age\n",
      "0  Alina   25\n",
      "1    Bod   30\n",
      "2  David   35\n",
      "3   Till   40\n",
      "<class 'pandas.core.frame.DataFrame'>\n",
      "Bod\n",
      "Bod\n",
      "Name    David\n",
      "Age        35\n",
      "Name: 2, dtype: object\n",
      "    Name  Age\n",
      "0  Alina   25\n",
      "3   Till   40\n",
      "    Name  Age\n",
      "0  Alina   25\n",
      "3   Till   40\n"
     ]
    }
   ],
   "source": [
    "#pandas\n",
    "\n",
    "import pandas as pd\n",
    "data = {'Name':['Alina','Bod','David','Till'],'Age': [25,30,35,40]}\n",
    "df = pd.DataFrame(data)\n",
    "print(df)\n",
    "print(type(df))\n",
    "#row indexing change krnn puluwn\n",
    "#lable base\n",
    "print(df.loc[1,\"Name\"])\n",
    "#index base\n",
    "print(df.iloc[1,0])\n",
    "#print row\n",
    "print(df.loc[2])\n",
    "#print 0,3 row data\n",
    "print(df.iloc[[0,3]])\n",
    "print(df.loc[[0,3]])\n"
   ]
  },
  {
   "cell_type": "code",
   "execution_count": 111,
   "metadata": {},
   "outputs": [
    {
     "name": "stdout",
     "output_type": "stream",
     "text": [
      "      colories  duration\n",
      "day1       340        20\n",
      "day2       500        30\n",
      "day3       590        40\n",
      "20\n",
      "500\n",
      "590\n",
      "590\n",
      "colories    500\n",
      "duration     30\n",
      "Name: day2, dtype: int64\n",
      "colories    590\n",
      "duration     40\n",
      "Name: day3, dtype: int64\n",
      "print colom day1    340\n",
      "day2    500\n",
      "day3    590\n",
      "Name: colories, dtype: int64\n",
      "day1    20\n",
      "day2    30\n",
      "day3    40\n",
      "Name: duration, dtype: int64\n"
     ]
    }
   ],
   "source": [
    "import pandas as pd\n",
    "data = {\"colories\":[340,500,590],\"duration\":[20,30,40]}\n",
    "df = pd.DataFrame(data,index=[\"day1\",\"day2\",\"day3\"])\n",
    "print(df)\n",
    "print(df.loc[\"day1\",\"duration\"])\n",
    "\n",
    "print(df.loc[\"day2\",\"colories\"])\n",
    "print(df.loc[\"day3\",\"colories\"])\n",
    "print(df.iloc[2,0])\n",
    "print(df.loc[\"day2\"])\n",
    "print(df.iloc[2])\n",
    "\n",
    "#print colom\n",
    "print(\"print colom\",df[\"colories\"])\n",
    "print(df[\"duration\"])"
   ]
  },
  {
   "cell_type": "code",
   "execution_count": 169,
   "metadata": {},
   "outputs": [
    {
     "name": "stdout",
     "output_type": "stream",
     "text": [
      "(5, 2)\n",
      "10\n",
      "A    int64\n",
      "B    int64\n",
      "dtype: object\n",
      "Index(['A', 'B'], dtype='object')\n",
      "['A', 'B']\n",
      "[[1 2]\n",
      " [2 3]\n",
      " [3 4]\n",
      " [4 6]\n",
      " [5 7]]\n",
      "<class 'numpy.ndarray'>\n",
      "=============\n",
      "   A  B\n",
      "0  1  2\n",
      "1  2  3\n",
      "2  3  4\n",
      "3  4  6\n",
      "4  5  7\n",
      "5  5  6\n",
      "=============\n",
      "    A   B\n",
      "0   1   2\n",
      "1   2   3\n",
      "2   3   4\n",
      "3  45  67\n",
      "4   5   7\n",
      "5   5   6\n",
      "================\n",
      "    A\n",
      "0   1\n",
      "1   2\n",
      "2   3\n",
      "3  45\n",
      "4   5\n",
      "5   5\n",
      "=====================\n",
      "    A   B\n",
      "0   1   2\n",
      "2   3   4\n",
      "3  45  67\n",
      "4   5   7\n",
      "5   5   6\n"
     ]
    }
   ],
   "source": [
    "import pandas as pd\n",
    "df = pd.DataFrame({\"A\":[1,2,3,4,5],\"B\":[2,3,4,6,7]})\n",
    "print(df.shape)\n",
    "print(df.size)\n",
    "print(df.dtypes)\n",
    "#index object\n",
    "print(df.columns)\n",
    "#convert list\n",
    "print(list(df.columns))\n",
    "#value - converting numpy array -2d array\n",
    "arr = df.values\n",
    "print(arr)\n",
    "print(type(arr))\n",
    "print(\"=============\")\n",
    "# add new row\n",
    "#len(df) - index ek data row eke set wenn one replace we\n",
    "df.loc[len(df)] = [5,6]\n",
    "print(df)\n",
    "print(\"=============\")\n",
    "df.loc[3] = [45,67]\n",
    "print(df)\n",
    "print(\"================\")\n",
    "# col/row drop\n",
    "#lables = remove krn col name ek\n",
    "# axis - row ekd col ekk d blgnn (1-col,0-row)\n",
    "remove = df.drop(\"B\",axis=1,inplace=False)\n",
    "print(remove)\n",
    "print(\"=====================\")\n",
    "\n",
    "remove = df.drop(1,axis=0,inplace=False)\n",
    "print(remove)"
   ]
  },
  {
   "cell_type": "code",
   "execution_count": 132,
   "metadata": {},
   "outputs": [
    {
     "name": "stdout",
     "output_type": "stream",
     "text": [
      "   Age  salary\n",
      "0   19    2000\n",
      "1   28    3000\n",
      "2   37    4000\n",
      "3\n",
      "Age         28.0\n",
      "salary    3000.0\n",
      "dtype: float64\n",
      "28.0\n",
      "Age         84\n",
      "salary    9000\n",
      "dtype: int64\n"
     ]
    }
   ],
   "source": [
    "#function\n",
    "#return row count\n",
    "import pandas as pd\n",
    "df = pd.DataFrame({\"Age\":[19,28,37],\"salary\":[2000,3000,4000]})\n",
    "print(df)\n",
    "print(len(df))\n",
    "print(df.mean())\n",
    "#catch the colom mean\n",
    "print(df[\"Age\"].mean())\n",
    "#sum\n",
    "print(df.sum())"
   ]
  },
  {
   "cell_type": "code",
   "execution_count": 146,
   "metadata": {},
   "outputs": [
    {
     "name": "stdout",
     "output_type": "stream",
     "text": [
      "   OrderId product  catogory  Quntity  Price\n",
      "0      101  capton  Electric        2   1000\n",
      "1      102  samosa  Electric        5    800\n",
      "2      103    bobe  Electric       10    150\n",
      "3      104  shampo  Electric        4    200\n",
      "4      105  cuckis  Electric        2    300\n",
      "====================\n",
      "   OrderId product  catogory  Quntity  Price  total remanue\n",
      "0      101  capton  Electric        2   1000           2000\n",
      "1      102  samosa  Electric        5    800           4000\n",
      "2      103    bobe  Electric       10    150           1500\n",
      "3      104  shampo  Electric        4    200            800\n",
      "4      105  cuckis  Electric        2    300            600\n",
      "===============\n",
      "best product: 4000\n",
      "=================\n",
      "   OrderId product  catogory  Quntity  Price  total remanue\n",
      "1      102  samosa  Electric        5    800           4000\n"
     ]
    }
   ],
   "source": [
    "#task6\n",
    "#you are the data analacy fora details company the company has provider with the folowing table contailning sales data \n",
    "#1-use pandato lord the above table in to a data fram\n",
    "#2 add the new col total remanue that calculate total remanue for eatch order \n",
    "#3 identify the best product/s \n",
    "import pandas as pd\n",
    "data={\"OrderId\":[101,102,103,104,105],\n",
    "                   \"product\":[\"capton\",\"samosa\",\"bobe\",\"shampo\",\"cuckis\"],\n",
    "                   \"catogory\":[\"Electric\",\"Electric\",\"Electric\",\"Electric\",\"Electric\"],\n",
    "                   \"Quntity\":[2,5,10,4,2],\"Price\":[1000,800,150,200,300]}\n",
    "df = pd.DataFrame(data)\n",
    "print(df)\n",
    "print(\"====================\")\n",
    "df[\"total remanue\"] = df[\"Quntity\"]*df[\"Price\"]\n",
    "print(df)\n",
    "print(\"===============\")\n",
    "best_product = df[\"total remanue\"].max()\n",
    "print(\"best product:\",best_product)\n",
    "print(\"=================\")\n",
    "filter = (df[df[\"total remanue\"] == best_product])\n",
    "print(filter)\n"
   ]
  },
  {
   "cell_type": "code",
   "execution_count": 170,
   "metadata": {},
   "outputs": [
    {
     "name": "stdout",
     "output_type": "stream",
     "text": [
      "     Name  Age  Score\n",
      "0   Alina   22     88\n",
      "1    Dill   23     66\n",
      "2    Till   55     55\n",
      "3  Samith   45     44\n",
      "====================\n",
      "     Name  Age  Score\n",
      "2    Till   55     55\n",
      "3  Samith   45     44\n",
      "<class 'pandas.core.frame.DataFrame'>\n",
      "================\n",
      "     Name  Age  Score\n",
      "0   Alina   22     88\n",
      "1    Dill   23     66\n",
      "3  Samith   45     44\n",
      "2    Till   55     55\n",
      "     Name  Score\n",
      "0   Alina     88\n",
      "1    Dill     66\n",
      "2    Till     55\n",
      "3  Samith     44\n"
     ]
    }
   ],
   "source": [
    "#filtering\n",
    "import pandas as pd\n",
    "data = {\n",
    "    \"Name\":[\"Alina\",\"Dill\",\"Till\",\"Samith\"],\n",
    "    \"Age\":[22,23,55,45],\n",
    "    \"Score\":[88,66,55,44]\n",
    "}\n",
    "df = pd.DataFrame(data)\n",
    "print(df)\n",
    "print(\"====================\")\n",
    "filter = df[df[\"Age\"]>25]\n",
    "print(filter)\n",
    "print(type(filter))\n",
    "print(\"================\")\n",
    "#sorting \n",
    "sorted_df = df.sort_values(by=\"Age\")\n",
    "print(sorted_df)\n"
   ]
  },
  {
   "cell_type": "code",
   "execution_count": 174,
   "metadata": {},
   "outputs": [
    {
     "name": "stdout",
     "output_type": "stream",
     "text": [
      "   EmployeeID   Name Department  Salary\n",
      "0           1   John         IT   60000\n",
      "1           2   Jane         HR   55000\n",
      "2           3   Mike    Finance   70000\n",
      "3           4  Linda         IT   65000\n",
      "<class 'pandas.core.frame.DataFrame'>\n",
      "=================\n",
      "                                                    quiz\n",
      "sport  {'q1': {'question': 'Which one is correct team...\n",
      "maths  {'q1': {'question': '5 + 7 = ?', 'options': ['...\n"
     ]
    }
   ],
   "source": [
    "import pandas as pd\n",
    "df = pd.read_csv('employees.csv')\n",
    "print(df)\n",
    "print(type(df))\n",
    "print(\"=================\")\n",
    "df = pd.read_json('example_2.json')\n",
    "print(df)"
   ]
  }
 ],
 "metadata": {
  "kernelspec": {
   "display_name": "Python 3",
   "language": "python",
   "name": "python3"
  },
  "language_info": {
   "codemirror_mode": {
    "name": "ipython",
    "version": 3
   },
   "file_extension": ".py",
   "mimetype": "text/x-python",
   "name": "python",
   "nbconvert_exporter": "python",
   "pygments_lexer": "ipython3",
   "version": "3.13.0"
  }
 },
 "nbformat": 4,
 "nbformat_minor": 2
}
