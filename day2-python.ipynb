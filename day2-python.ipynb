{
 "cells": [
  {
   "cell_type": "code",
   "execution_count": null,
   "metadata": {},
   "outputs": [],
   "source": [
    "#tuple\n",
    "my_tuple = ('apple',8,1)\n",
    "print(my_tuple)\n",
    "my_tuple[1] \n",
    "print(my_tuple[1])\n",
    "print(len(my_tuple))\n",
    "print(type(my_tuple))\n",
    "my_tuple_1 =(8)\n",
    "my_tuple_2 =(\"apple\",)\n",
    "print(type(my_tuple_1))\n",
    "print(type(my_tuple_2))"
   ]
  },
  {
   "cell_type": "code",
   "execution_count": null,
   "metadata": {},
   "outputs": [],
   "source": [
    "# tuple change\n",
    "my_tuple_1 = (1,2,3,4,5)\n",
    "my_list_1 = list(my_tuple_1)\n",
    "my_list_1[2] = 15\n",
    "my_tuple_1 = tuple(my_list_1)\n",
    "print(my_tuple_1)"
   ]
  },
  {
   "cell_type": "code",
   "execution_count": null,
   "metadata": {},
   "outputs": [],
   "source": [
    "# nexted tuple\n",
    "my_tuple_1 = ((1,3,4),(\"apple\",\"banana\",\"grapes\"),(True,False))\n",
    "print(my_tuple_1[1][1])\n",
    "print(my_tuple_1[2][1])"
   ]
  },
  {
   "cell_type": "code",
   "execution_count": null,
   "metadata": {},
   "outputs": [],
   "source": [
    "# range\n",
    "range_1 = range(1,11,2)\n",
    "print(type(range_1))\n",
    "print(range_1[2])\n",
    "print(len(range_1))"
   ]
  },
  {
   "cell_type": "code",
   "execution_count": null,
   "metadata": {},
   "outputs": [],
   "source": [
    "#dictionary\n",
    "my_dict = {\n",
    "    \"name\":\"sugar\",\n",
    "    \"price\":250.20,\n",
    "    \"weight\":\"1kg\",\n",
    "    \"price\":270.00\n",
    "}\n",
    "print(my_dict)\n",
    "print(type(my_dict))\n",
    "print(my_dict[\"name\"])\n",
    "# update value\n",
    "my_dict[\"price\"] = 300.00\n",
    "print(my_dict)\n"
   ]
  },
  {
   "cell_type": "code",
   "execution_count": null,
   "metadata": {},
   "outputs": [],
   "source": [
    "my_dict = {\n",
    "    \"name\":\"sugar\",\n",
    "    \"price\":250.00,\n",
    "    \"weight\":\"1kg\"\n",
    "\n",
    "}\n",
    "print(my_dict.get(\"price\"))\n",
    "print(my_dict.get(\"expire_date\",\"2024-11-20\"))\n",
    "# multiple values update \n",
    "my_dict.update({\n",
    "    \"price\":300.00,\"weight\":\"3kg\"\n",
    "})\n",
    "print(my_dict)\n",
    "# new value add\n",
    "my_dict[\"color\"] = \"white\"\n",
    "print(my_dict)\n",
    "\n",
    "# remove value\n",
    "my_dict.pop(\"weight\")\n",
    "print(my_dict)\n",
    "\n",
    "# delete using del\n",
    "del my_dict[\"color\"]\n",
    "print(my_dict)\n",
    "\n",
    "#del desro\n",
    "# del my_dict \n",
    "# print(len(my_dict))\n",
    "# print(my_dict)\n",
    "\n",
    "# clear \n",
    "my_dict.clear()\n",
    "print(my_dict)\n",
    "print(len(my_dict))"
   ]
  },
  {
   "cell_type": "code",
   "execution_count": null,
   "metadata": {},
   "outputs": [],
   "source": [
    "# copy dict\n",
    "\n",
    "my_dict = {\n",
    "    \"name\":\"sugar\",\n",
    "    \"price\":250.00,\n",
    "    \"weight\":\"1kg\"\n",
    "\n",
    "}\n",
    "\n",
    "my_dict_1  = my_dict.copy()\n",
    "print(my_dict_1)"
   ]
  },
  {
   "cell_type": "code",
   "execution_count": null,
   "metadata": {},
   "outputs": [],
   "source": [
    "# Exponetion\n",
    "x,y =4,5\n",
    "print(x**y)\n",
    "\n",
    "# Floor division\n",
    "y = 9//4\n",
    "print(y)\n",
    "\n",
    "#Modulus\n",
    "y = 7%3\n",
    "print(y)"
   ]
  },
  {
   "cell_type": "code",
   "execution_count": null,
   "metadata": {},
   "outputs": [],
   "source": [
    "x = x+5\n",
    "# x + = 5\n",
    "print(x)\n",
    "\n",
    "x = x*5\n",
    "# x * = 5\n",
    "print(x)\n",
    "\n",
    "# divide and assign\n",
    "x =5\n",
    "x /=7\n",
    "print(x)\n",
    "\n",
    "# modulo and assign\n",
    "x =5\n",
    "# x % =7\n",
    "print(x)\n",
    "\n",
    "# exponentiation and assign\n",
    "x = 5 \n",
    "x **= 7\n",
    "print(x)\n",
    "\n",
    "# floor division and assign\n",
    "x = 5\n",
    "x //= 7\n",
    "print(x)\n"
   ]
  },
  {
   "cell_type": "code",
   "execution_count": null,
   "metadata": {},
   "outputs": [],
   "source": [
    "# comparison operation\n",
    "x=5\n",
    "y=6\n",
    "print(x == y)\n",
    "print(x!=y)\n",
    "print(x<y)\n",
    "print(x>y)\n",
    "print(x<=y)\n",
    "print(x>=y)"
   ]
  },
  {
   "cell_type": "code",
   "execution_count": null,
   "metadata": {},
   "outputs": [],
   "source": [
    "# Logical Operators\n",
    "x=5\n",
    "y=6\n",
    "print(x<10 and y<8)\n",
    "print(x<10 or y<8)\n",
    "print(not x>1)"
   ]
  },
  {
   "cell_type": "code",
   "execution_count": null,
   "metadata": {},
   "outputs": [],
   "source": [
    "x = 5\n",
    "y = 6\n",
    "print( x is y)"
   ]
  },
  {
   "cell_type": "code",
   "execution_count": null,
   "metadata": {},
   "outputs": [],
   "source": [
    "# 0-256 true return\n",
    "x = 1000\n",
    "y = 1000\n",
    "print(x is y)"
   ]
  },
  {
   "cell_type": "code",
   "execution_count": null,
   "metadata": {},
   "outputs": [],
   "source": [
    "my_list_1 = [8,10,12,13,15]\n",
    "print(10 in my_list_1)\n",
    "print(11 in my_list_1)\n",
    "print(11 not in my_list_1)"
   ]
  },
  {
   "cell_type": "code",
   "execution_count": null,
   "metadata": {},
   "outputs": [],
   "source": [
    "x = 5\n",
    "y = 10\n",
    "# And\n",
    "z = x & y\n",
    "print(z)\n",
    "# or\n",
    "z = x|y\n",
    "print(z)\n",
    "# xor\n",
    "z = x^y\n",
    "print(z)\n",
    "#not\n",
    "x = 5\n",
    "print(~x)"
   ]
  },
  {
   "cell_type": "code",
   "execution_count": null,
   "metadata": {},
   "outputs": [],
   "source": [
    "# if else\n",
    "x = 5\n",
    "y = 10\n",
    "if(x<y):\n",
    "    print(x)\n",
    "else:\n",
    "    print(y)"
   ]
  },
  {
   "cell_type": "code",
   "execution_count": null,
   "metadata": {},
   "outputs": [],
   "source": [
    "#input number\n",
    "x = input(\"Enter a number:\")\n",
    "print(x)\n",
    "# check type\n",
    "print(type(x))"
   ]
  },
  {
   "cell_type": "code",
   "execution_count": null,
   "metadata": {},
   "outputs": [],
   "source": [
    "#input value is string so convering to int casting\n",
    "x = int(input(\"Enter number: \")) \n",
    "if x % 2 == 0: \n",
    "    print(\"Even\")\n",
    "else:\n",
    "    print(\"Odd\")\n"
   ]
  },
  {
   "cell_type": "code",
   "execution_count": null,
   "metadata": {},
   "outputs": [],
   "source": [
    "# if else\n",
    "x = int(input(\"Enter number:\"))\n",
    "if x > 0 :\n",
    "   if x % 7 == 0 :\n",
    "    print(\"multification of 7\")\n",
    "   else:\n",
    "    print(\" not a multification of 7\")\n",
    "else:\n",
    "    print(\"nagative\")    "
   ]
  },
  {
   "cell_type": "code",
   "execution_count": null,
   "metadata": {},
   "outputs": [],
   "source": [
    "#else if\n",
    "x =5\n",
    "y =10\n",
    "if( x == y):\n",
    "    print(\"numbers are equal\")\n",
    "elif x> y:\n",
    "    print(\"x is graterthank y\")\n",
    "else:\n",
    "    print(\"x is less than y\")"
   ]
  },
  {
   "cell_type": "code",
   "execution_count": null,
   "metadata": {},
   "outputs": [],
   "source": [
    "# task 01\n",
    "marks = int(input(\"Enter your marks: \"))\n",
    "\n",
    "if 85 <= marks <= 100: \n",
    "    print(\"A\")\n",
    "elif 75 <= marks < 85: \n",
    "    print(\"B\")\n",
    "elif 65 <= marks < 75: \n",
    "    print(\"C\")\n",
    "elif 50 <= marks < 65:  \n",
    "    print(\"D\")\n",
    "elif 0 <= marks < 50:   \n",
    "    print(\"F\")\n",
    "else:\n",
    "    print(\"Invalid marks\") "
   ]
  },
  {
   "cell_type": "code",
   "execution_count": null,
   "metadata": {},
   "outputs": [],
   "source": [
    "# if else shorte to code line\n",
    "marks = int(input(\"Enter your marks: \"))\n",
    "\n",
    "if 0 <= marks <= 100:\n",
    "    print(\"out of range\")\n",
    "    if marks >= 85:\n",
    "        print(\"A\")\n",
    "    elif marks >= 75:\n",
    "        print(\"B\")\n",
    "    elif marks >= 65:\n",
    "        print(\"C\")\n",
    "    elif marks >= 50:\n",
    "        print(\"D\")\n",
    "    else:\n",
    "        print(\"F\")\n",
    "else:\n",
    "    print(\"Invalid marks\")"
   ]
  },
  {
   "cell_type": "code",
   "execution_count": null,
   "metadata": {},
   "outputs": [],
   "source": [
    "#  start to first index and set data 2to 2\n",
    "my_list = [8,10,12,9,11,15,16,4]\n",
    "print(my_list[1:6:2])"
   ]
  },
  {
   "cell_type": "code",
   "execution_count": null,
   "metadata": {},
   "outputs": [],
   "source": [
    "# codeing to redability\n",
    "x = 10\n",
    "result = \"Even\" if x% 2 == 0 else \" Odd\"\n",
    "print(result)"
   ]
  },
  {
   "cell_type": "code",
   "execution_count": null,
   "metadata": {},
   "outputs": [],
   "source": [
    "# dict assing values\n",
    "d_1 = {\"a\":1}\n",
    "d_2 = {\"b\":3}\n",
    "d_3 = d_1 | d_2\n",
    "print(d_3)\n",
    "print(len(d_3))"
   ]
  },
  {
   "cell_type": "code",
   "execution_count": null,
   "metadata": {},
   "outputs": [],
   "source": [
    "#value assing\n",
    "my_list = [10,12,14]\n",
    "x,y,z = my_list\n",
    "print(x,y,z)"
   ]
  },
  {
   "cell_type": "code",
   "execution_count": null,
   "metadata": {},
   "outputs": [],
   "source": [
    "# tuple assing values\n",
    "my_tuple_1 = (1,2,3)\n",
    "x,y,z = my_tuple_1\n",
    "print(x,y,z)"
   ]
  }
 ],
 "metadata": {
  "language_info": {
   "name": "python"
  }
 },
 "nbformat": 4,
 "nbformat_minor": 2
}
