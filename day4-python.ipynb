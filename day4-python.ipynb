{
 "cells": [
  {
   "cell_type": "code",
   "execution_count": 6,
   "metadata": {},
   "outputs": [
    {
     "name": "stdout",
     "output_type": "stream",
     "text": [
      "(2, 4, 6, 8) <class 'tuple'>\n",
      "2\n",
      "4\n",
      "6\n",
      "8\n"
     ]
    }
   ],
   "source": [
    "#1.) arbitrary argument\n",
    "def arbitrary_positional_argument(*args):\n",
    "    print(args,type(args))\n",
    "    for args in args:\n",
    "      print(args)  \n",
    "arbitrary_positional_argument(2,4,6,8)"
   ]
  },
  {
   "cell_type": "code",
   "execution_count": null,
   "metadata": {},
   "outputs": [
    {
     "name": "stdout",
     "output_type": "stream",
     "text": [
      "(88, 55, 90, 44)\n",
      "student Name: sachini\n",
      "Maximum grade: 90\n",
      "Minimum grade: 44\n",
      "Average: 63.0\n"
     ]
    }
   ],
   "source": [
    "# task-02\n",
    "def summarize_args(student_name,*args):\n",
    "    print(args)   \n",
    "    print(\"student Name:\", student_name)\n",
    "\n",
    "    grades = args[1:] \n",
    "\n",
    "    if grades:\n",
    "        max_grade = max(grades) \n",
    "        min_grade = min(grades) \n",
    "        average = sum(grades) / len(grades)\n",
    "\n",
    "        print(\"Maximum grade:\", max_grade)\n",
    "        print(\"Minimum grade:\", min_grade)\n",
    "        print(\"Average:\", average)\n",
    "    else:\n",
    "        print(\"No grades provided.\")\n",
    "\n",
    "summarize_args(\"sachini\", 88, 55, 90,44)\n"
   ]
  },
  {
   "cell_type": "code",
   "execution_count": 23,
   "metadata": {},
   "outputs": [
    {
     "name": "stdout",
     "output_type": "stream",
     "text": [
      "student Name: sachini\n",
      "No grades provided.\n",
      "student Name: sachini\n",
      "Maximum grade: 90\n",
      "Minimum grade: 44\n",
      "Average: 69.25\n"
     ]
    }
   ],
   "source": [
    "def summarize_args(student_name,*grades):\n",
    "    print(\"student Name:\", student_name)\n",
    "\n",
    "    if not grades:\n",
    "        print(\"No grades provided.\")\n",
    "    else:\n",
    "        max_grade = max(grades) \n",
    "        min_grade = min(grades) \n",
    "        average = sum(grades) / len(grades)\n",
    "\n",
    "        print(\"Maximum grade:\", max_grade)\n",
    "        print(\"Minimum grade:\", min_grade)\n",
    "        print(\"Average:\", average)\n",
    "\n",
    "summarize_args(\"sachini\")\n",
    "summarize_args(\"sachini\", 88, 55, 90,44)\n"
   ]
  },
  {
   "cell_type": "code",
   "execution_count": 28,
   "metadata": {},
   "outputs": [
    {
     "name": "stdout",
     "output_type": "stream",
     "text": [
      "{'name': 'sachini', 'age': 23, 'city': 'matara'} <class 'dict'>\n"
     ]
    }
   ],
   "source": [
    "#2.) arbitrary keyword arbitrary_positional_argument\n",
    "def arbitrary_keyword_argument(** kwards):\n",
    "     print(kwards,type(kwards))\n",
    "\n",
    "arbitrary_keyword_argument(name= \"sachini\",age= 23,city= \"matara\")"
   ]
  },
  {
   "cell_type": "code",
   "execution_count": null,
   "metadata": {},
   "outputs": [
    {
     "name": "stdout",
     "output_type": "stream",
     "text": [
      "key = name value = sachini\n",
      "key = age value = 23\n",
      "key = city value = matara\n"
     ]
    }
   ],
   "source": [
    "#2.) arbitrary keyword arbitrary_positional_argument\n",
    "def arbitrary_keyword_argument(** kwards):\n",
    "    for key,value in kwards.items():\n",
    "     print(\"key =\",key,\"value =\",value)\n",
    "\n",
    "arbitrary_keyword_argument(name= \"sachini\",age= 23,city= \"matara\")"
   ]
  },
  {
   "cell_type": "code",
   "execution_count": 42,
   "metadata": {},
   "outputs": [
    {
     "name": "stdout",
     "output_type": "stream",
     "text": [
      "Employee Name: Sachini\n",
      "age : 25\n",
      "department : IT\n",
      "role : Developer\n",
      "{'Employee Name': 'Sachini', 'age': 25, 'department': 'IT', 'role': 'Developer'}\n"
     ]
    }
   ],
   "source": [
    "def employeee_info(employee_name, **details):\n",
    "    print(\"Employee Name:\", employee_name)\n",
    "    \n",
    "    for key, value in details.items():\n",
    "        print(key,\":\",value)  \n",
    "    employee_details = {\"Employee Name\": employee_name, **details}\n",
    "    return employee_details\n",
    "\n",
    "# Call the function and print the result\n",
    "result = employeee_info(\"Sachini\", age=25, department=\"IT\", role=\"Developer\")\n",
    "print(result)\n",
    "\n",
    "   "
   ]
  },
  {
   "cell_type": "code",
   "execution_count": null,
   "metadata": {},
   "outputs": [
    {
     "data": {
      "text/plain": [
       "20"
      ]
     },
     "execution_count": 44,
     "metadata": {},
     "output_type": "execute_result"
    }
   ],
   "source": [
    "# built in functions\n",
    "#1.) abs()\n",
    "abs(-20)\n"
   ]
  },
  {
   "cell_type": "code",
   "execution_count": null,
   "metadata": {},
   "outputs": [
    {
     "name": "stdout",
     "output_type": "stream",
     "text": [
      "Map Object: <map object at 0x000001F53F785C90>\n",
      "Type: <class 'map'>\n",
      "Squared Results: [25, 36, 49, 64, 81]\n"
     ]
    }
   ],
   "source": [
    "#map()\n",
    "def cal_square(x):\n",
    "    return x * x\n",
    "\n",
    "my_list = [5, 6, 7, 8, 9]\n",
    "result = map(cal_square, my_list)\n",
    "\n",
    "result_list = list(result)\n",
    "\n",
    "print(\"Map Object:\", result)\n",
    "print(\"Type:\", type(result))\n",
    "print(\"Squared Results:\", result_list)\n"
   ]
  },
  {
   "cell_type": "code",
   "execution_count": null,
   "metadata": {},
   "outputs": [
    {
     "name": "stdout",
     "output_type": "stream",
     "text": [
      "Map Object: <map object at 0x000001F53F6D4B80>\n",
      "Type: <class 'map'>\n",
      "number Results: [14, 11, 11, 7]\n"
     ]
    }
   ],
   "source": [
    "#task01\n",
    "def my_number(x,y):\n",
    "    return x + y\n",
    "\n",
    "my_list_1 = [10,8,5,6]\n",
    "my_list_2 = [4,3,6,1]\n",
    "result = map(my_number, my_list_1,my_list_2)\n",
    "result_list = list(result)\n",
    "\n",
    "print(\"Map Object:\", result)\n",
    "print(\"Type:\", type(result))\n",
    "print(\"number Results:\", result_list)"
   ]
  },
  {
   "cell_type": "code",
   "execution_count": null,
   "metadata": {},
   "outputs": [
    {
     "name": "stdout",
     "output_type": "stream",
     "text": [
      "Map Object: <map object at 0x000001F53F774E50>\n",
      "Type: <class 'map'>\n",
      "fahrenheit Results: [68.0, 86.0, 77.0, 104.0, 59.0]\n"
     ]
    }
   ],
   "source": [
    "#task02\n",
    "def converte_fahrenheit(c):\n",
    "    return ( c *9/5)+32\n",
    "\n",
    "temperatures = [20,30,25,40,15]\n",
    "\n",
    "result = map(converte_fahrenheit,temperatures)\n",
    "result_list = list(result)\n",
    "\n",
    "print(\"Map Object:\", result)\n",
    "print(\"Type:\", type(result))\n",
    "print(\"fahrenheit Results:\", result_list)"
   ]
  },
  {
   "cell_type": "code",
   "execution_count": 61,
   "metadata": {},
   "outputs": [
    {
     "name": "stdout",
     "output_type": "stream",
     "text": [
      "<filter object at 0x000001F53F72B040> <class 'filter'>\n",
      "result: [8, 10, 6]\n"
     ]
    }
   ],
   "source": [
    "def check_even(x):\n",
    " return x % 2 == 0\n",
    "my_list = [5,8,10,9,6,3] \n",
    "result = filter(check_even,my_list)\n",
    "result_list = list(result)\n",
    "print(result,type(result))\n",
    "print(\"result:\",result_list)"
   ]
  },
  {
   "cell_type": "code",
   "execution_count": 64,
   "metadata": {},
   "outputs": [
    {
     "name": "stdout",
     "output_type": "stream",
     "text": [
      "8\n",
      "9\n"
     ]
    }
   ],
   "source": [
    "#annonimous function -lambda function\n",
    "add = lambda x,y : x+y\n",
    "print(add(3,5))\n",
    "\n",
    "# derect coll\n",
    "result = (lambda x,y:x+y)(4,5)\n",
    "print(result)"
   ]
  },
  {
   "cell_type": "code",
   "execution_count": null,
   "metadata": {},
   "outputs": [
    {
     "name": "stdout",
     "output_type": "stream",
     "text": [
      "25\n"
     ]
    }
   ],
   "source": [
    "# power of two\n",
    "add = lambda x: x**2 \n",
    "print(add(5))\n",
    "    "
   ]
  },
  {
   "cell_type": "code",
   "execution_count": null,
   "metadata": {},
   "outputs": [
    {
     "name": "stdout",
     "output_type": "stream",
     "text": [
      "<filter object at 0x000001F53F6F0A00>\n",
      "<class 'list'>\n",
      "[('Alice', 23), ('Andrew', 25)]\n"
     ]
    }
   ],
   "source": [
    "#task04\n",
    "people = [(\"Alice\",23),(\"John\",17),(\"Andrew\",25),(\"kate\",15)]\n",
    "less_people = lambda person: person[1] >= 18\n",
    "adults = filter(less_people, people)\n",
    "adults_list = list(adults)\n",
    "print(adults)\n",
    "print(type(adults_list))\n",
    "print(adults_list)"
   ]
  },
  {
   "cell_type": "code",
   "execution_count": null,
   "metadata": {},
   "outputs": [
    {
     "name": "stdout",
     "output_type": "stream",
     "text": [
      "6\n"
     ]
    }
   ],
   "source": [
    "# annonimous function - fu ekk atule tw fu ekk define krnwa\n",
    "def my_function(n):\n",
    "    return lambda a:a*n\n",
    "my_doubler = my_function(2) # lambda a:a*2\n",
    "print(my_doubler(3))"
   ]
  },
  {
   "cell_type": "code",
   "execution_count": 73,
   "metadata": {},
   "outputs": [
    {
     "name": "stdout",
     "output_type": "stream",
     "text": [
      "15\n"
     ]
    }
   ],
   "source": [
    "def my_function(n):\n",
    "    return lambda a:a*n\n",
    "my_thribler = my_function(3)\n",
    "print(my_thribler(5))"
   ]
  },
  {
   "cell_type": "code",
   "execution_count": 77,
   "metadata": {},
   "outputs": [
    {
     "name": "stdout",
     "output_type": "stream",
     "text": [
      "[(66, 45)]\n"
     ]
    }
   ],
   "source": [
    "number = [(45, 67), (66, 45)]\n",
    "large_num = lambda num: num[0] > num[1]\n",
    "current_num = filter(large_num, number)\n",
    "\n",
    "num_list = list(current_num)\n",
    "\n",
    "print(num_list)\n"
   ]
  },
  {
   "cell_type": "code",
   "execution_count": 78,
   "metadata": {},
   "outputs": [
    {
     "name": "stdout",
     "output_type": "stream",
     "text": [
      "55\n"
     ]
    }
   ],
   "source": [
    "find_max = lambda a,b:a if a>b else b\n",
    "print(find_max(34,55))"
   ]
  },
  {
   "cell_type": "code",
   "execution_count": null,
   "metadata": {},
   "outputs": [
    {
     "name": "stdout",
     "output_type": "stream",
     "text": [
      "1\n"
     ]
    }
   ],
   "source": [
    "# task 06\n",
    "def find_factorial(n):\n",
    "    factorial = 1  \n",
    "    for i in range(1, n + 1): \n",
    "        factorial *= i  \n",
    "    return factorial\n",
    "\n",
    "n = 5\n",
    "result = find_factorial(n)\n",
    "print(result)\n"
   ]
  },
  {
   "cell_type": "code",
   "execution_count": 102,
   "metadata": {},
   "outputs": [
    {
     "name": "stdout",
     "output_type": "stream",
     "text": [
      "120\n"
     ]
    }
   ],
   "source": [
    "# recursive function\n",
    "def find_factorial(x):\n",
    "    if x == 0 or x == 1:\n",
    "        return 1\n",
    "    else:\n",
    "        return(x* find_factorial(x-1))\n",
    "x = 5\n",
    "result = find_factorial(x) \n",
    "print(result)   "
   ]
  },
  {
   "cell_type": "code",
   "execution_count": null,
   "metadata": {},
   "outputs": [
    {
     "name": "stdout",
     "output_type": "stream",
     "text": [
      "25\n"
     ]
    }
   ],
   "source": [
    "# task 07 = sum array\n",
    "def calculate_sum(arr):\n",
    "    return sum(arr)\n",
    "number = [1,3,5,7,9]\n",
    "result = calculate_sum(number)\n",
    "print(result)"
   ]
  },
  {
   "cell_type": "code",
   "execution_count": null,
   "metadata": {},
   "outputs": [
    {
     "name": "stdout",
     "output_type": "stream",
     "text": [
      "25\n"
     ]
    }
   ],
   "source": [
    "#recursive function\n",
    "def recursive_sum(lst):\n",
    "    if not lst:\n",
    "        return 0\n",
    "    else:\n",
    "        return lst[0]+recursive_sum(lst[1:])\n",
    "    \n",
    "lst = [1,2,4,5,6,7]  \n",
    "result = recursive_sum(lst)\n",
    "print(result)  "
   ]
  },
  {
   "cell_type": "code",
   "execution_count": null,
   "metadata": {},
   "outputs": [
    {
     "name": "stdout",
     "output_type": "stream",
     "text": [
      "55\n"
     ]
    }
   ],
   "source": [
    "#implement recursive function to generate the nth of number in the fiboncci sequence the fibonacci sequence atatement with 0 and 1 and each sunsequent number the sum of the two preceding one\n",
    "def fibonacci(n):\n",
    " if n == 0:\n",
    "    return 0\n",
    " elif n == 1:\n",
    "    return 1\n",
    " return fibonacci(n-1) + fibonacci(n-2)\n",
    "\n",
    "n = 10\n",
    "result = fibonacci(n)\n",
    "print(result)"
   ]
  }
 ],
 "metadata": {
  "kernelspec": {
   "display_name": "Python 3",
   "language": "python",
   "name": "python3"
  },
  "language_info": {
   "codemirror_mode": {
    "name": "ipython",
    "version": 3
   },
   "file_extension": ".py",
   "mimetype": "text/x-python",
   "name": "python",
   "nbconvert_exporter": "python",
   "pygments_lexer": "ipython3",
   "version": "3.13.0"
  }
 },
 "nbformat": 4,
 "nbformat_minor": 2
}
