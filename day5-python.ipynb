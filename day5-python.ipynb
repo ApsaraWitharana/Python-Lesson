{
 "cells": [
  {
   "cell_type": "code",
   "execution_count": null,
   "metadata": {},
   "outputs": [
    {
     "name": "stdout",
     "output_type": "stream",
     "text": [
      "motor vehicle\n",
      "<bound method Car.disply of <__main__.Car object at 0x0000029981663CB0>>\n",
      "motor vehicle\n"
     ]
    }
   ],
   "source": [
    "class Car :\n",
    "    category = \"motor vehicle\"\n",
    "\n",
    "    def disply(self):\n",
    "        print(\"this is a car\")\n",
    "\n",
    "new_car = Car()\n",
    "print(new_car.category)\n",
    "print(new_car.disply)\n",
    "print(Car.category) # this acc to class -not difined onject"
   ]
  },
  {
   "cell_type": "code",
   "execution_count": null,
   "metadata": {},
   "outputs": [
    {
     "name": "stdout",
     "output_type": "stream",
     "text": [
      "audi\n"
     ]
    }
   ],
   "source": [
    "# contructer\n",
    "class Car :\n",
    "    category = \"motor vehicle\"\n",
    "\n",
    "    def __init__(self,name):\n",
    "        self.name = name # this name is instance attribute\n",
    "new_car = Car(\"audi\")\n",
    "print(new_car.name)        \n",
    "\n",
    "    "
   ]
  },
  {
   "cell_type": "code",
   "execution_count": 18,
   "metadata": {},
   "outputs": [
    {
     "name": "stdout",
     "output_type": "stream",
     "text": [
      "Name: Audi\n",
      "Car Name: None\n",
      "Name: BMW\n",
      "Updated Car Name: None\n"
     ]
    }
   ],
   "source": [
    "class Car:\n",
    "    category = \"motor vehicle\"  \n",
    "\n",
    "    def __init__(self, name):\n",
    "        self.name = name\n",
    "\n",
    "    def display(self):\n",
    "        print(\"Name:\",self.name)\n",
    "    \n",
    "    def update_name(self, new_name):\n",
    "        self.name = new_name\n",
    "\n",
    "\n",
    "new_car = Car(\"Audi\")\n",
    "# print(\"Car Name:\", new_car.name) \n",
    "print(\"Car Name:\", new_car.display())  \n",
    "\n",
    "new_car.update_name(\"BMW\")\n",
    "# print(\"Updated Car Name:\", new_car.name)  \n",
    "print(\"Updated Car Name:\", new_car.display())  \n"
   ]
  },
  {
   "cell_type": "code",
   "execution_count": 32,
   "metadata": {},
   "outputs": [
    {
     "name": "stdout",
     "output_type": "stream",
     "text": [
      "Account Holder: Jone\n",
      "current balance: 0\n",
      "Amount: 500\n",
      "current balance: 500\n",
      "withdrow: 200\n",
      "current balance: 300\n",
      "account does not have suffision amount!\n",
      "current balance: 300\n"
     ]
    }
   ],
   "source": [
    "# task 01\n",
    "class BannkAccount:\n",
    "    account_holder=\"store the account holder\"\n",
    "\n",
    "    def __init__(self, account_holder):\n",
    "        self.account_holder = account_holder\n",
    "        self.balance = 0\n",
    "\n",
    "    def deposit(self,amount):\n",
    "         if amount>=0:\n",
    "             self.balance += amount\n",
    "             print(\"Amount:\",amount) \n",
    "         else:\n",
    "            print(\"Invelide Amount!!\")\n",
    "         \n",
    "    def withdraw(self,amount):\n",
    "         if amount <=0:\n",
    "             print(\"Invalide withdrow amount\")\n",
    "         elif amount>self.balance:\n",
    "             print(\"account does not have suffision amount!\")\n",
    "         else:\n",
    "             self.balance -= amount\n",
    "             print(\"withdrow:\",amount)\n",
    "    def display_balance(self):\n",
    "             print(\"current balance:\",self.balance)\n",
    "\n",
    "account = BannkAccount(\"Jone\")\n",
    "\n",
    "print(f\"Account Holder: {account.account_holder}\")\n",
    "account.display_balance() \n",
    "\n",
    "\n",
    "account.deposit(500)\n",
    "account.display_balance() \n",
    "\n",
    "\n",
    "account.withdraw(200)\n",
    "account.display_balance()  \n",
    "\n",
    "account.withdraw(400)\n",
    "account.display_balance()  "
   ]
  },
  {
   "cell_type": "code",
   "execution_count": 40,
   "metadata": {},
   "outputs": [
    {
     "name": "stdout",
     "output_type": "stream",
     "text": [
      "ROSI\n"
     ]
    }
   ],
   "source": [
    "class Animal:\n",
    "    def __init__(self,name):\n",
    "        self.name = name\n",
    "    def speek(self):\n",
    "        pass\n",
    "class Dog(Animal):\n",
    "    def speek(self):\n",
    "        print(self.name,\"sayy woof\")\n",
    "\n",
    "dog_1 = Dog(\"ROSI\")\n",
    "print(dog_1.name)"
   ]
  },
  {
   "cell_type": "code",
   "execution_count": 39,
   "metadata": {},
   "outputs": [
    {
     "name": "stdout",
     "output_type": "stream",
     "text": [
      "Name: ALISA Color: Brown\n"
     ]
    }
   ],
   "source": [
    "class Animal:\n",
    "    def __init__(self,name):\n",
    "        self.name = name\n",
    "class Dog(Animal):\n",
    "\n",
    "    def __init__(self, name,color):\n",
    "        super().__init__(name)\n",
    "        self.color = color\n",
    "dog_1 = Dog(\"ALISA\",\"Brown\")\n",
    "print(\"Name:\",dog_1.name,\"Color:\",dog_1.color)"
   ]
  },
  {
   "cell_type": "code",
   "execution_count": 44,
   "metadata": {},
   "outputs": [
    {
     "name": "stdout",
     "output_type": "stream",
     "text": [
      "Book Information:\n",
      "Title: The Great Gatsby\n",
      "Author: F. Scott Fitzgerald\n",
      "publication year: 1997\n",
      "Genre: Fiction\n",
      "Isbn: 978-0743273565\n",
      "Magazin Information:\n",
      "Title: The Great Gatsby\n",
      "Author: F. Scott Fitzgerald\n",
      "publication year: 1997\n",
      "Genre: Fiction\n",
      "Isbn: 978-0743273565\n"
     ]
    }
   ],
   "source": [
    "# task 02\n",
    "class LibraryItem:\n",
    "    def __init__(self,title,author,publicaton_year):\n",
    "        self.title = title\n",
    "        self.author = author\n",
    "        self.publication_year = publicaton_year\n",
    "\n",
    "    def display_intro(self):\n",
    "        print(\"Title:\",self.title)\n",
    "        print(\"Author:\",self.author)\n",
    "        print(\"publication year:\",self.publication_year)\n",
    "\n",
    "class Book(LibraryItem):\n",
    "\n",
    "    def __init__(self, title, author, publicaton_year,genre,isbn):\n",
    "        super().__init__(title,author,publicaton_year)\n",
    "        self.genre = genre\n",
    "        self.isbn = isbn\n",
    "    def display_intro(self):\n",
    "        super().display_intro()    \n",
    "        print(\"Genre:\",self.genre)\n",
    "        print(\"Isbn:\",self.isbn)\n",
    "\n",
    "class Magazine(LibraryItem):\n",
    "    def __init__(self, title, author, publicaton_year,issue):\n",
    "        super().__init__(title, author, publicaton_year)\n",
    "        self.issue = issue  \n",
    "\n",
    "    def display_intro(self):\n",
    "        super().display_intro()\n",
    "        print(\"Issue:\",self.issue)\n",
    "\n",
    "book = Book(\"The Great Gatsby\", \"F. Scott Fitzgerald\", 1997, \"Fiction\", \"978-0743273565\")\n",
    "magazine = Magazine(\"National Geographic\", \"Various\", 2023, \"Issue 04/04\")  \n",
    "\n",
    "print(\"Book Information:\")\n",
    "book.display_intro()\n",
    "\n",
    "print(\"Magazin Information:\")\n",
    "book.display_intro()"
   ]
  },
  {
   "cell_type": "code",
   "execution_count": 47,
   "metadata": {},
   "outputs": [
    {
     "name": "stdout",
     "output_type": "stream",
     "text": [
      "some value\n",
      "protected attribute\n"
     ]
    },
    {
     "ename": "AttributeError",
     "evalue": "'Myclass' object has no attribute '__var_3'",
     "output_type": "error",
     "traceback": [
      "\u001b[1;31m---------------------------------------------------------------------------\u001b[0m",
      "\u001b[1;31mAttributeError\u001b[0m                            Traceback (most recent call last)",
      "Cell \u001b[1;32mIn[47], line 10\u001b[0m\n\u001b[0;32m      8\u001b[0m \u001b[38;5;28mprint\u001b[39m(my_obj\u001b[38;5;241m.\u001b[39mvar_1)\n\u001b[0;32m      9\u001b[0m \u001b[38;5;28mprint\u001b[39m(my_obj\u001b[38;5;241m.\u001b[39m_var_2)\n\u001b[1;32m---> 10\u001b[0m \u001b[38;5;28mprint\u001b[39m(\u001b[43mmy_obj\u001b[49m\u001b[38;5;241;43m.\u001b[39;49m\u001b[43m__var_3\u001b[49m)\n",
      "\u001b[1;31mAttributeError\u001b[0m: 'Myclass' object has no attribute '__var_3'"
     ]
    }
   ],
   "source": [
    "class Myclass:\n",
    "    def __init__(self):\n",
    "        self.var_1 = \"some value\"\n",
    "        self._var_2 = \"protected attribute\" # protected attribute using to one undersco (_ // _var_2)\n",
    "        self.__var_3 = \"priverte attribute\"  # priverte attribute using to two undersco(__ // __var_3)\n",
    "my_obj = Myclass()\n",
    "\n",
    "print(my_obj.var_1)\n",
    "print(my_obj._var_2)\n",
    "print(my_obj.__var_3)"
   ]
  },
  {
   "cell_type": "code",
   "execution_count": 51,
   "metadata": {},
   "outputs": [
    {
     "name": "stdout",
     "output_type": "stream",
     "text": [
      "some value\n",
      "protected method\n",
      "None\n"
     ]
    },
    {
     "ename": "AttributeError",
     "evalue": "'Myclass' object has no attribute '__priverted_method'",
     "output_type": "error",
     "traceback": [
      "\u001b[1;31m---------------------------------------------------------------------------\u001b[0m",
      "\u001b[1;31mAttributeError\u001b[0m                            Traceback (most recent call last)",
      "Cell \u001b[1;32mIn[51], line 16\u001b[0m\n\u001b[0;32m     14\u001b[0m \u001b[38;5;28mprint\u001b[39m(my_obj\u001b[38;5;241m.\u001b[39mvar_1)\n\u001b[0;32m     15\u001b[0m \u001b[38;5;28mprint\u001b[39m(my_obj\u001b[38;5;241m.\u001b[39m_protected_method())\n\u001b[1;32m---> 16\u001b[0m \u001b[38;5;28mprint\u001b[39m(\u001b[43mmy_obj\u001b[49m\u001b[38;5;241;43m.\u001b[39;49m\u001b[43m__priverted_method\u001b[49m()) \u001b[38;5;66;03m# this not allow to access\u001b[39;00m\n",
      "\u001b[1;31mAttributeError\u001b[0m: 'Myclass' object has no attribute '__priverted_method'"
     ]
    }
   ],
   "source": [
    "class Myclass:\n",
    "    def __init__(self):\n",
    "        self.var_1 = \"some value\"\n",
    "        self._var_2 = \"protected attribute\" # protected attribute using to one undersco (_ // _var_2)\n",
    "        self.__var_3 = \"priverte attribute\"  # priverte attribute using to two undersco(__ // __var_3)\n",
    "\n",
    "    def _protected_method(self):\n",
    "        print(\"protected method\")\n",
    "    def __priverted_method(self):\n",
    "        print(\"priverte method\") \n",
    "\n",
    "my_obj = Myclass()\n",
    "\n",
    "print(my_obj.var_1)\n",
    "print(my_obj._protected_method())\n",
    "print(my_obj.__priverted_method()) # this not allow to access"
   ]
  },
  {
   "cell_type": "code",
   "execution_count": 58,
   "metadata": {},
   "outputs": [
    {
     "name": "stdout",
     "output_type": "stream",
     "text": [
      "None\n",
      "None\n"
     ]
    }
   ],
   "source": [
    "class MyClass:\n",
    "    def __init__(self):\n",
    "        self.__data = \"some value\"\n",
    "    def get_value(self):\n",
    "        self.__data\n",
    "    def set_value(self, new_data):\n",
    "        self.__data = new_data\n",
    "\n",
    "\n",
    "my_obj = MyClass()\n",
    "print(my_obj.get_value())  \n",
    "my_obj.set_value(\"updated data\")\n",
    "print(my_obj.get_value()) \n"
   ]
  },
  {
   "cell_type": "code",
   "execution_count": 61,
   "metadata": {},
   "outputs": [
    {
     "name": "stdout",
     "output_type": "stream",
     "text": [
      "some data\n",
      "updated data\n"
     ]
    }
   ],
   "source": [
    "class MyClass:\n",
    "    def __init__(self, data=\"some data\"):\n",
    "      \n",
    "        self.__data = data\n",
    "\n",
    "    def get_value(self):\n",
    "       \n",
    "        return self.__data\n",
    "\n",
    "    def set_value(self, new_data):\n",
    "        \n",
    "        self.__data = new_data\n",
    "\n",
    "\n",
    "# Create an instance of MyClass with initial data\n",
    "my_obj = MyClass()\n",
    "print(my_obj.get_value()) \n",
    "# Update the value of __data\n",
    "my_obj.set_value(\"updated data\")\n",
    "\n",
    "print(my_obj.get_value()) \n"
   ]
  },
  {
   "cell_type": "code",
   "execution_count": null,
   "metadata": {},
   "outputs": [
    {
     "name": "stdout",
     "output_type": "stream",
     "text": [
      "check value\n"
     ]
    }
   ],
   "source": [
    "class MyClass:\n",
    "    def __init__(self, data=\"some data\"):\n",
    "        self.__data = data\n",
    "\n",
    "    def __check_my_values(self):\n",
    "        print(\"check value\")\n",
    "\n",
    "    def access_private_method(self):\n",
    "        self.__check_my_values()  \n",
    "\n",
    "\n",
    "my_obj = MyClass()\n",
    "my_obj.access_private_method() \n"
   ]
  },
  {
   "cell_type": "code",
   "execution_count": 65,
   "metadata": {},
   "outputs": [],
   "source": [
    "class MyClass:\n",
    "    def __init__(self, data=\"some data\"):\n",
    "        self.__data = data\n",
    "    def _make_sound(self):\n",
    "        print(\"make animal sound\")  \n",
    "class Dog(Animal):\n",
    "    def bark(self):\n",
    "        self._make_sound()\n",
    "        print(\"doking\")        "
   ]
  },
  {
   "cell_type": "code",
   "execution_count": 84,
   "metadata": {},
   "outputs": [
    {
     "name": "stdout",
     "output_type": "stream",
     "text": [
      "Two distinct real roots: 0.6433981132056603 -1.2433981132056604\n",
      "None\n"
     ]
    }
   ],
   "source": [
    "\n",
    "\n",
    "import cmath\n",
    "\n",
    "class QuadraticEquation:\n",
    "    def __init__(self, a, b, c):\n",
    "      \n",
    "        self.__a = a\n",
    "        self.__b = b\n",
    "        self.__c = c\n",
    "\n",
    "    def __discriminant(self):\n",
    "       \n",
    "        return self.__b ** 2 - 4 * self.__a * self.__c\n",
    "\n",
    "    def find_roots(self):\n",
    "    \n",
    "        D = self.__discriminant()\n",
    "        a, b = self.__a, self.__b\n",
    "        \n",
    "        if D > 0:\n",
    "            root1 = (-b + D ** 0.5) / (2 * a)\n",
    "            root2 = (-b - D ** 0.5) / (2 * a)\n",
    "            print(\"Two distinct real roots:\",root1,root2)\n",
    "        elif D == 0:\n",
    "            root = -b / (2 * a)\n",
    "            print(\"One real root:\",root)\n",
    "           \n",
    "        else:\n",
    "            root1 = (-b + cmath.sqrt(D)) / (2 * a)\n",
    "            root2 = (-b - cmath.sqrt(D)) / (2 * a)\n",
    "            print(\"Two complex roots:\",root1,root2)\n",
    "\n",
    "\n",
    "a = 5\n",
    "b = 3\n",
    "c = -4\n",
    "\n",
    "quadratic_eq = QuadraticEquation(a, b, c)\n",
    "\n",
    "print(quadratic_eq.find_roots())\n"
   ]
  },
  {
   "cell_type": "code",
   "execution_count": null,
   "metadata": {},
   "outputs": [
    {
     "name": "stdout",
     "output_type": "stream",
     "text": [
      "Two distinct real roots: 2.0, 1.0\n"
     ]
    }
   ],
   "source": [
    "\n",
    "# task 05\n",
    "import cmath\n",
    "\n",
    "class QuadraticEquation:\n",
    "    def __init__(self, a, b, c):\n",
    "      \n",
    "        self.__a = a\n",
    "        self.__b = b\n",
    "        self.__c = c\n",
    "\n",
    "    def __discriminant(self):\n",
    "       \n",
    "        return self.__b ** 2 - 4 * self.__a * self.__c\n",
    "\n",
    "    def find_roots(self):\n",
    "    \n",
    "        D = self.__discriminant()\n",
    "        a, b = self.__a, self.__b\n",
    "        \n",
    "        if D > 0:\n",
    "            root1 = (-b + D ** 0.5) / (2 * a)\n",
    "            root2 = (-b - D ** 0.5) / (2 * a)\n",
    "            return f\"Two distinct real roots: {root1}, {root2}\"\n",
    "        elif D == 0:\n",
    "            root = -b / (2 * a)\n",
    "            return f\"One real root: {root}\"\n",
    "        else:\n",
    "            root1 = (-b + cmath.sqrt(D)) / (2 * a)\n",
    "            root2 = (-b - cmath.sqrt(D)) / (2 * a)\n",
    "            return f\"Two complex roots: {root1}, {root2}\"\n",
    "\n",
    "a = 1\n",
    "b = -3\n",
    "c = 2\n",
    "\n",
    "quadratic_eq = QuadraticEquation(a, b, c)\n",
    "\n",
    "print(quadratic_eq.find_roots())\n"
   ]
  },
  {
   "cell_type": "code",
   "execution_count": null,
   "metadata": {},
   "outputs": [],
   "source": [
    "\n"
   ]
  }
 ],
 "metadata": {
  "kernelspec": {
   "display_name": "Python 3",
   "language": "python",
   "name": "python3"
  },
  "language_info": {
   "codemirror_mode": {
    "name": "ipython",
    "version": 3
   },
   "file_extension": ".py",
   "mimetype": "text/x-python",
   "name": "python",
   "nbconvert_exporter": "python",
   "pygments_lexer": "ipython3",
   "version": "3.13.0"
  }
 },
 "nbformat": 4,
 "nbformat_minor": 2
}
