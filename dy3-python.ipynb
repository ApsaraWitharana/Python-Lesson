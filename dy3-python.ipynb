{
 "cells": [
  {
   "cell_type": "code",
   "execution_count": null,
   "metadata": {},
   "outputs": [
    {
     "name": "stdout",
     "output_type": "stream",
     "text": [
      "Something else\n"
     ]
    }
   ],
   "source": [
    "# switch case -match case\n",
    "\n",
    "response_code = 203\n",
    "\n",
    "match response_code:\n",
    "    case 200:\n",
    "        print(\"OK\")\n",
    "    case 201:\n",
    "        print(\"Created\")\n",
    "    case 404:\n",
    "        print(\"404 not found\")\n",
    "    case 500:\n",
    "        print(\"Internal server error\")\n",
    "    case _:\n",
    "        print(\"Something else\")\n"
   ]
  },
  {
   "cell_type": "code",
   "execution_count": null,
   "metadata": {},
   "outputs": [
    {
     "name": "stdout",
     "output_type": "stream",
     "text": [
      "15\n"
     ]
    }
   ],
   "source": [
    "# this matching to the list pattern (list eliment count match)\n",
    "num = [3,5,7]\n",
    "\n",
    "match num:\n",
    "    case[x,y]:\n",
    "     print(x*y)\n",
    "    case[x,y,z]:\n",
    "     print(x+y+z)\n",
    "    case _:\n",
    "     print(\"This list does not contain 2 or 3 numbers!\")\n"
   ]
  },
  {
   "cell_type": "code",
   "execution_count": null,
   "metadata": {},
   "outputs": [
    {
     "name": "stdout",
     "output_type": "stream",
     "text": [
      "empty\n"
     ]
    }
   ],
   "source": [
    "# task 01  match  case \n",
    "len = [1,2,5]\n",
    "match len:\n",
    "    case[]:\n",
    "        print(\"empty\")\n",
    "    case[x]:\n",
    "        print(\"Has one eliment\")\n",
    "    case[x,y]:\n",
    "        print(\"Has two eliment\")\n",
    "    case _:\n",
    "        print(\"someting use\")        \n"
   ]
  },
  {
   "cell_type": "code",
   "execution_count": null,
   "metadata": {},
   "outputs": [
    {
     "name": "stdout",
     "output_type": "stream",
     "text": [
      "apple\n",
      "banana\n",
      "orange\n"
     ]
    }
   ],
   "source": [
    "# for loop \n",
    "\n",
    "fruits = [\"apple\",\"banana\",\"orange\"]\n",
    "for fruit in fruits:\n",
    "    print(fruit)"
   ]
  },
  {
   "cell_type": "code",
   "execution_count": null,
   "metadata": {},
   "outputs": [
    {
     "name": "stdout",
     "output_type": "stream",
     "text": [
      "49\n",
      "25\n",
      "64\n",
      "16\n",
      "81\n",
      "144\n"
     ]
    }
   ],
   "source": [
    "# task 02\n",
    "numbers = [7, 5, 8, 4, 9, 12]\n",
    "squared_numbers = [num * num for num in numbers] \n",
    "for num in squared_numbers:\n",
    "    print(num)\n"
   ]
  },
  {
   "cell_type": "code",
   "execution_count": 24,
   "metadata": {},
   "outputs": [
    {
     "name": "stdout",
     "output_type": "stream",
     "text": [
      "[49, 25, 64, 16, 81, 144]\n"
     ]
    }
   ],
   "source": [
    "numbers = [7, 5, 8, 4, 9, 12]\n",
    "squared_numbers = []\n",
    "for num in numbers:\n",
    "    squared_numbers.append(num*num)\n",
    "print(squared_numbers)"
   ]
  },
  {
   "cell_type": "code",
   "execution_count": null,
   "metadata": {},
   "outputs": [
    {
     "name": "stdout",
     "output_type": "stream",
     "text": [
      "[1, 4, 9]\n"
     ]
    }
   ],
   "source": [
    "# task 3\n",
    "x = int(input(\"Enter number: \")) \n",
    "squared_numbers = []\n",
    "for num in range(1,x+1): #set  first to input value\n",
    "    squared_numbers.append(num*num)\n",
    "print(squared_numbers)"
   ]
  },
  {
   "cell_type": "code",
   "execution_count": null,
   "metadata": {},
   "outputs": [
    {
     "name": "stdout",
     "output_type": "stream",
     "text": [
      "[4, 144, 64, 81, 4, 25]\n"
     ]
    }
   ],
   "source": [
    "#list conbination\n",
    "#result = [expression for item in  conbination]\n",
    "numbers = [2,12,8,9,2,5]\n",
    "result = [num*num for num in numbers]\n",
    "print(result)"
   ]
  },
  {
   "cell_type": "code",
   "execution_count": 51,
   "metadata": {},
   "outputs": [
    {
     "name": "stdout",
     "output_type": "stream",
     "text": [
      "[64, 144, 25, 16]\n"
     ]
    }
   ],
   "source": [
    "# task 4\n",
    "numbers = [8,12,-1,5,4,0,-3]\n",
    "result = [num*num for num in numbers if num>0 ]\n",
    "print(result)"
   ]
  },
  {
   "cell_type": "code",
   "execution_count": 89,
   "metadata": {},
   "outputs": [
    {
     "name": "stdout",
     "output_type": "stream",
     "text": [
      "Squared numbers: [1, 4, 9, 16]\n"
     ]
    }
   ],
   "source": [
    "# task 5 this input number ekta adu ekt wenakm square nubers tik gnne\n",
    "num = int(input(\"Enter a number (x): \"))\n",
    "squared_numbers = []\n",
    "temp_squared = 1\n",
    "count = 1\n",
    "while temp_squared <= num:\n",
    "    squared_numbers.append(temp_squared)\n",
    "    count += 1\n",
    "    temp_squared = count*count\n",
    "print(\"Squared numbers:\", squared_numbers)\n",
    "\n"
   ]
  },
  {
   "cell_type": "code",
   "execution_count": 91,
   "metadata": {},
   "outputs": [
    {
     "name": "stdout",
     "output_type": "stream",
     "text": [
      "0 1 2 3 4 End\n"
     ]
    }
   ],
   "source": [
    "m = 5\n",
    "i =0\n",
    "while i<m:\n",
    "    print(i,end = \" \")\n",
    "    i = i+1\n",
    "print(\"End\")    "
   ]
  },
  {
   "cell_type": "code",
   "execution_count": null,
   "metadata": {},
   "outputs": [
    {
     "name": "stdout",
     "output_type": "stream",
     "text": [
      "8\n",
      "9\n",
      "3\n",
      "12\n",
      "15\n"
     ]
    }
   ],
   "source": [
    "# break\n",
    "my_list = [8,9,3,0,12,15]\n",
    "for item in my_list:\n",
    "    if item == 0:\n",
    "        break\n",
    "    else:\n",
    "      print(item)"
   ]
  },
  {
   "cell_type": "code",
   "execution_count": null,
   "metadata": {},
   "outputs": [
    {
     "name": "stdout",
     "output_type": "stream",
     "text": [
      "1\n",
      "3\n",
      "6\n",
      "7\n",
      "8\n"
     ]
    }
   ],
   "source": [
    "# continue - this continue is condition value break\n",
    "my_list = [1,3,5,6,7,8]\n",
    "for item in my_list:\n",
    "    if item == 5:\n",
    "       continue\n",
    "    else:\n",
    "       print(item)"
   ]
  },
  {
   "cell_type": "code",
   "execution_count": null,
   "metadata": {},
   "outputs": [
    {
     "name": "stdout",
     "output_type": "stream",
     "text": [
      "100\n",
      "4\n",
      "2500\n",
      "2704\n"
     ]
    }
   ],
   "source": [
    "\n",
    "while True:\n",
    "   numbers = int(input(\"Enter a number: \"))\n",
    "   if numbers == 0:\n",
    "      break\n",
    "   else:\n",
    "       print(numbers*numbers)\n"
   ]
  },
  {
   "cell_type": "code",
   "execution_count": 2,
   "metadata": {},
   "outputs": [
    {
     "name": "stdout",
     "output_type": "stream",
     "text": [
      "name sachini\n",
      "age 22\n",
      "gender Female\n"
     ]
    }
   ],
   "source": [
    "#un pack to dict\n",
    "person = {\n",
    "    \"name\":\"sachini\",\n",
    "    \"age\": 22,\n",
    "    \"gender\":\"Female\"\n",
    "}\n",
    "for key,value in person.items():\n",
    "    print(key,value)"
   ]
  },
  {
   "cell_type": "code",
   "execution_count": null,
   "metadata": {},
   "outputs": [
    {
     "name": "stdout",
     "output_type": "stream",
     "text": [
      "name\n",
      "age\n",
      "gender\n"
     ]
    }
   ],
   "source": [
    "# keys get\n",
    "person = {\n",
    "    \"name\":\"sachini\",\n",
    "    \"age\": 22,\n",
    "    \"gender\":\"Female\"\n",
    "}\n",
    "for key in person.keys():\n",
    "    print(key)"
   ]
  },
  {
   "cell_type": "code",
   "execution_count": null,
   "metadata": {},
   "outputs": [
    {
     "name": "stdout",
     "output_type": "stream",
     "text": [
      "sachini\n",
      "22\n",
      "Female\n"
     ]
    }
   ],
   "source": [
    "#value get\n",
    "person = {\n",
    "    \"name\":\"sachini\",\n",
    "    \"age\": 22,\n",
    "    \"gender\":\"Female\"\n",
    "}\n",
    "for value in person.values():\n",
    "    print(value)"
   ]
  },
  {
   "cell_type": "code",
   "execution_count": null,
   "metadata": {},
   "outputs": [
    {
     "data": {
      "text/plain": [
       "60"
      ]
     },
     "execution_count": 8,
     "metadata": {},
     "output_type": "execute_result"
    }
   ],
   "source": [
    "# function\n",
    "\n",
    "def calculate_circumformance(width,height):\n",
    " c = 2*(width+height)\n",
    " return c\n",
    "calculate_circumformance(10,20)"
   ]
  },
  {
   "cell_type": "code",
   "execution_count": 12,
   "metadata": {},
   "outputs": [
    {
     "data": {
      "text/plain": [
       "314.0"
      ]
     },
     "execution_count": 12,
     "metadata": {},
     "output_type": "execute_result"
    }
   ],
   "source": [
    "PI_value = 3.14\n",
    "def calculate_circle_area(redias):\n",
    "    c = PI_value*(redias*redias)\n",
    "    return c\n",
    "calculate_circle_area(10)"
   ]
  },
  {
   "cell_type": "code",
   "execution_count": 13,
   "metadata": {},
   "outputs": [
    {
     "data": {
      "text/plain": [
       "30"
      ]
     },
     "execution_count": 13,
     "metadata": {},
     "output_type": "execute_result"
    }
   ],
   "source": [
    "#default argument\n",
    "def add_number(a,b):\n",
    "    return a+b\n",
    "add_number(10,20)"
   ]
  },
  {
   "cell_type": "code",
   "execution_count": null,
   "metadata": {},
   "outputs": [
    {
     "data": {
      "text/plain": [
       "30"
      ]
     },
     "execution_count": 14,
     "metadata": {},
     "output_type": "execute_result"
    }
   ],
   "source": [
    "# default value\n",
    "def add_number(a,b=5):\n",
    "    return a+b\n",
    "add_number(10,20)"
   ]
  },
  {
   "cell_type": "code",
   "execution_count": null,
   "metadata": {},
   "outputs": [
    {
     "data": {
      "text/plain": [
       "15"
      ]
     },
     "execution_count": 15,
     "metadata": {},
     "output_type": "execute_result"
    }
   ],
   "source": [
    "# assign the default value\n",
    "def add_number(a,b=5):\n",
    "    return a+b\n",
    "add_number(10)"
   ]
  },
  {
   "cell_type": "code",
   "execution_count": null,
   "metadata": {},
   "outputs": [
    {
     "ename": "SyntaxError",
     "evalue": "parameter without a default follows parameter with a default (2004640314.py, line 1)",
     "output_type": "error",
     "traceback": [
      "\u001b[1;36m  Cell \u001b[1;32mIn[16], line 1\u001b[1;36m\u001b[0m\n\u001b[1;33m    def add_number(a,b=5,c):\u001b[0m\n\u001b[1;37m                         ^\u001b[0m\n\u001b[1;31mSyntaxError\u001b[0m\u001b[1;31m:\u001b[0m parameter without a default follows parameter with a default\n"
     ]
    }
   ],
   "source": [
    "def add_number(a,b=5,c):\n",
    "    return a+b+c\n",
    "add_number(10,20,30)\n",
    "# error\n",
    "#   def add_number(a,b=5,c):\n",
    " #                        ^\n",
    "#SyntaxError: parameter without a default follows parameter with a default"
   ]
  },
  {
   "cell_type": "code",
   "execution_count": 17,
   "metadata": {},
   "outputs": [
    {
     "data": {
      "text/plain": [
       "60"
      ]
     },
     "execution_count": 17,
     "metadata": {},
     "output_type": "execute_result"
    }
   ],
   "source": [
    "def add_number(a,b=5,c=10):\n",
    "    return a+b+c\n",
    "add_number(10,20,30)"
   ]
  },
  {
   "cell_type": "code",
   "execution_count": null,
   "metadata": {},
   "outputs": [
    {
     "data": {
      "text/plain": [
       "30"
      ]
     },
     "execution_count": 22,
     "metadata": {},
     "output_type": "execute_result"
    }
   ],
   "source": [
    "# positional argument\n",
    "def add_po(a,b):\n",
    "    return a+b\n",
    "add_po(10,20)\n"
   ]
  },
  {
   "cell_type": "code",
   "execution_count": null,
   "metadata": {},
   "outputs": [
    {
     "data": {
      "text/plain": [
       "30"
      ]
     },
     "execution_count": 23,
     "metadata": {},
     "output_type": "execute_result"
    }
   ],
   "source": [
    "# Key argument - order ektmm values assign krnn one na\n",
    "def add_po(a,b):\n",
    "    return a+b\n",
    "add_po(b=10,a=20)"
   ]
  },
  {
   "cell_type": "code",
   "execution_count": 37,
   "metadata": {},
   "outputs": [
    {
     "name": "stdout",
     "output_type": "stream",
     "text": [
      "The total cost is: 500.0\n"
     ]
    }
   ],
   "source": [
    "# task -05\n",
    "\n",
    "def calculate_cost(price, quantity, discount =0, tax =0):\n",
    "    base_cost = price * quantity\n",
    "    \n",
    "    discounted_cost = base_cost - (base_cost*discount) / 100\n",
    "\n",
    "    tax_cost = (discounted_cost * tax) / 100\n",
    "\n",
    "    total_cost = discounted_cost + tax_cost\n",
    "    return total_cost\n",
    "\n",
    "price = float(input(\"Enter the price of a single item: \"))\n",
    "quantity = int(input(\"Enter the quantity: \"))\n",
    "# discount = float(input(\"Enter the discount percentage: \"))\n",
    "# tax = float(input(\"Enter the tax percentage: \"))\n",
    "\n",
    "\n",
    "total_cost = calculate_cost(price, quantity   )\n",
    "print(f\"The total cost is: {total_cost}\")\n"
   ]
  },
  {
   "cell_type": "code",
   "execution_count": 38,
   "metadata": {},
   "outputs": [
    {
     "name": "stdout",
     "output_type": "stream",
     "text": [
      "0\n"
     ]
    }
   ],
   "source": [
    "a =5\n",
    "b= 2\n",
    "print(a**b//3%2)"
   ]
  },
  {
   "cell_type": "code",
   "execution_count": null,
   "metadata": {},
   "outputs": [
    {
     "name": "stdout",
     "output_type": "stream",
     "text": [
      "'I love computer program,I an student of IJSE , I love in Galle'\n"
     ]
    },
    {
     "data": {
      "text/plain": [
       "'\" this is comment 01\"'"
      ]
     },
     "execution_count": 40,
     "metadata": {},
     "output_type": "execute_result"
    }
   ],
   "source": [
    "my_str = \"'I love computer program,I an student of IJSE , I love in Galle'\"\n",
    "print(my_str)\n"
   ]
  },
  {
   "cell_type": "code",
   "execution_count": null,
   "metadata": {},
   "outputs": [
    {
     "data": {
      "text/plain": [
       "'this is comment 01\\n'"
      ]
     },
     "execution_count": 44,
     "metadata": {},
     "output_type": "execute_result"
    }
   ],
   "source": [
    "'''this is comment 01'''\n",
    "# this is comment 02"
   ]
  },
  {
   "cell_type": "code",
   "execution_count": 49,
   "metadata": {},
   "outputs": [
    {
     "name": "stdout",
     "output_type": "stream",
     "text": [
      "11\n",
      "o\n",
      "llo wo\n",
      "HELLO WORLD\n",
      "hello world\n"
     ]
    }
   ],
   "source": [
    "my_str = \"hello world\"\n",
    "print(len(my_str))\n",
    "print(my_str[4])\n",
    "print(my_str[2:8])\n",
    "print(my_str.upper())\n",
    "print(my_str.lower())"
   ]
  },
  {
   "cell_type": "code",
   "execution_count": null,
   "metadata": {},
   "outputs": [
    {
     "name": "stdout",
     "output_type": "stream",
     "text": [
      "hello world     \n",
      "hello world     \n"
     ]
    }
   ],
   "source": [
    "# string process\n",
    "my_str = \"   hello world     \"\n",
    "print(my_str)\n",
    "my_str.strip()\n",
    "print(my_str)"
   ]
  }
 ],
 "metadata": {
  "kernelspec": {
   "display_name": "Python 3",
   "language": "python",
   "name": "python3"
  },
  "language_info": {
   "codemirror_mode": {
    "name": "ipython",
    "version": 3
   },
   "file_extension": ".py",
   "mimetype": "text/x-python",
   "name": "python",
   "nbconvert_exporter": "python",
   "pygments_lexer": "ipython3",
   "version": "3.13.0"
  }
 },
 "nbformat": 4,
 "nbformat_minor": 2
}
